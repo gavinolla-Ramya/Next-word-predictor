{
  "nbformat": 4,
  "nbformat_minor": 0,
  "metadata": {
    "colab": {
      "provenance": []
    },
    "kernelspec": {
      "name": "python3",
      "display_name": "Python 3"
    },
    "language_info": {
      "name": "python"
    }
  },
  "cells": [
    {
      "cell_type": "markdown",
      "source": [
        "**Next Word Predictor**"
      ],
      "metadata": {
        "id": "OpAMjmAW4YFw"
      }
    },
    {
      "cell_type": "code",
      "source": [
        "import re\n",
        "from collections import defaultdict\n"
      ],
      "metadata": {
        "id": "2vrV7ZDCwVOJ"
      },
      "execution_count": 1,
      "outputs": []
    },
    {
      "cell_type": "markdown",
      "source": [
        "DATASET"
      ],
      "metadata": {
        "id": "y6r4l9QmyZD8"
      }
    },
    {
      "cell_type": "code",
      "execution_count": 2,
      "metadata": {
        "id": "BOr3xRl7NIFF"
      },
      "outputs": [],
      "source": [
        "import pandas as pd\n",
        "corpus = \"\"\"\n",
        "hello how are you doing today\n",
        "hello what is your name\n",
        "hello it is nice to meet you\n",
        "how are you feeling today\n",
        "how is the weather outside\n",
        "how was your day at work\n",
        "what are you doing right now\n",
        "what is the plan for tomorrow\n",
        "what time will the meeting start\n",
        "where are you going for lunch\n",
        "where is the nearest coffee shop\n",
        "where can I find a good restaurant nearby\n",
        "the weather is sunny and warm today\n",
        "the weather forecast predicts rain tomorrow\n",
        "it is going to be a beautiful day\n",
        "the team meeting has been postponed\n",
        "the project deadline is approaching fast\n",
        "we need to finalize the report by monday\n",
        "are you coming to the office tomorrow\n",
        "are you free this evening for a call\n",
        "can you please send me the latest report\n",
        "can you let me know the meeting agenda\n",
        "traveling is a great way to explore new places\n",
        "travel plans for this summer include visiting europe\n",
        "do you have any recommendations for good travel destinations\n",
        "the flight to new york is scheduled for tomorrow morning\n",
        "the train to boston will arrive at 5 pm\n",
        "please confirm your hotel reservations before the trip\n",
        "how was your recent trip to the mountains\n",
        "what did you enjoy most about your vacation\n",
        "learning new skills is essential for career growth\n",
        "attending workshops and seminars can help improve knowledge\n",
        "reading books is a great way to gain new perspectives\n",
        "technology is advancing at a rapid pace\n",
        "artificial intelligence is transforming many industries\n",
        "machine learning and data science are popular career paths\n",
        "programming languages like python and java are widely used\n",
        "writing clean and efficient code is important for software development\n",
        "staying healthy requires regular exercise and a balanced diet\n",
        "eating fruits and vegetables is good for your health\n",
        "drinking plenty of water helps keep you hydrated\n",
        "a good night's sleep is important for mental health\n",
        "spending time with family and friends improves happiness\n",
        "life is about finding balance between work and personal time\n",
        "hobbies like painting, reading, and gardening can be relaxing\n",
        "watching movies and listening to music are popular pastimes\n",
        "sports like football, basketball, and tennis are enjoyed worldwide\n",
        "success comes with hard work and dedication\n",
        "challenges are opportunities for growth and learning\n",
        "perseverance and consistency are keys to achieving goals\n",
        "\"\"\""
      ]
    },
    {
      "cell_type": "markdown",
      "source": [
        "Preprocess the Data"
      ],
      "metadata": {
        "id": "SYPU8UUH5ckj"
      }
    },
    {
      "cell_type": "code",
      "source": [
        "# Function to clean and tokenize the corpus\n",
        "def preprocess(text):\n",
        "    # Remove punctuation\n",
        "    text = re.sub(r'[^a-zA-Z\\s]', '', text)\n",
        "    return text.lower().split()\n"
      ],
      "metadata": {
        "id": "qNb0d6Ph5Y4U"
      },
      "execution_count": 3,
      "outputs": []
    },
    {
      "cell_type": "markdown",
      "source": [
        "Training The Model"
      ],
      "metadata": {
        "id": "1pCH0cMzyds8"
      }
    },
    {
      "cell_type": "code",
      "source": [
        "def train_next_word_model(corpus):\n",
        "    model = defaultdict(list)\n",
        "    words = preprocess(corpus)\n",
        "    for i in range(len(words) - 1):\n",
        "        # Map word to next word\n",
        "        model[words[i]].append(words[i + 1])\n",
        "    return model\n"
      ],
      "metadata": {
        "id": "aii-gS9e90cT"
      },
      "execution_count": 4,
      "outputs": []
    },
    {
      "cell_type": "code",
      "source": [
        "def predict_next_word(model, word):\n",
        "    if word in model:\n",
        "        # Most frequent next word\n",
        "        return max(set(model[word]), key=model[word].count)\n",
        "    else:\n",
        "        return \"No prediction available\""
      ],
      "metadata": {
        "id": "TXAnwzoqZJox"
      },
      "execution_count": 5,
      "outputs": []
    },
    {
      "cell_type": "markdown",
      "source": [
        "Testing the Model"
      ],
      "metadata": {
        "id": "lqWmzG3uyl6G"
      }
    },
    {
      "cell_type": "code",
      "source": [
        "# Training the model\n",
        "model = train_next_word_model(corpus)\n",
        "\n",
        "# User input for word prediction\n",
        "print(\"Simple Next-Word Predictor (type 'exit' to quit)\")\n",
        "while True:\n",
        "    word = input(\"\\nEnter a word: \").lower()\n",
        "    if word == 'exit':\n",
        "        break\n",
        "    next_word = predict_next_word(model, word)\n",
        "    print(f\"Predicted next word: {next_word}\")"
      ],
      "metadata": {
        "id": "10KJYm_rcVEc",
        "colab": {
          "base_uri": "https://localhost:8080/"
        },
        "outputId": "dcac304c-4d6d-43f4-9434-a69816023bd6"
      },
      "execution_count": 6,
      "outputs": [
        {
          "name": "stdout",
          "output_type": "stream",
          "text": [
            "Simple Next-Word Predictor (type 'exit' to quit)\n",
            "\n",
            "Enter a word: hello\n",
            "Predicted next word: what\n",
            "\n",
            "Enter a word: what\n",
            "Predicted next word: is\n",
            "\n",
            "Enter a word: is\n",
            "Predicted next word: the\n",
            "\n",
            "Enter a word: the\n",
            "Predicted next word: weather\n",
            "\n",
            "Enter a word: exit\n"
          ]
        }
      ]
    }
  ]
}